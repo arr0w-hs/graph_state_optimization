{
 "cells": [
  {
   "cell_type": "code",
   "execution_count": 1,
   "id": "5f13d371-97db-447e-b7af-c80467e56510",
   "metadata": {},
   "outputs": [],
   "source": [
    "load(\"GraphClasses.sage\")\n",
    "import networkx as nx\n"
   ]
  },
  {
   "cell_type": "code",
   "execution_count": 2,
   "id": "8703dfd6",
   "metadata": {},
   "outputs": [
    {
     "ename": "NameError",
     "evalue": "name '__file__' is not defined",
     "output_type": "error",
     "traceback": [
      "\u001b[0;31m---------------------------------------------------------------------------\u001b[0m",
      "\u001b[0;31mNameError\u001b[0m                                 Traceback (most recent call last)",
      "Cell \u001b[0;32mIn[2], line 11\u001b[0m\n\u001b[1;32m      9\u001b[0m \u001b[38;5;28;01mimport\u001b[39;00m \u001b[38;5;21;01mmatplotlib\u001b[39;00m\u001b[38;5;21;01m.\u001b[39;00m\u001b[38;5;21;01mpyplot\u001b[39;00m \u001b[38;5;28;01mas\u001b[39;00m \u001b[38;5;21;01mplt\u001b[39;00m\n\u001b[1;32m     10\u001b[0m \u001b[38;5;28;01mimport\u001b[39;00m \u001b[38;5;21;01mnetworkx\u001b[39;00m \u001b[38;5;28;01mas\u001b[39;00m \u001b[38;5;21;01mnx\u001b[39;00m\n\u001b[0;32m---> 11\u001b[0m sys\u001b[38;5;241m.\u001b[39mpath\u001b[38;5;241m.\u001b[39mappend(os\u001b[38;5;241m.\u001b[39mpath\u001b[38;5;241m.\u001b[39mdirname(\u001b[38;5;18;43m__file__\u001b[39;49m))\n\u001b[1;32m     12\u001b[0m dir_name \u001b[38;5;241m=\u001b[39m os\u001b[38;5;241m.\u001b[39mpath\u001b[38;5;241m.\u001b[39mdirname(\u001b[38;5;18m__file__\u001b[39m)\n\u001b[1;32m     13\u001b[0m \u001b[38;5;66;03m#from base_lc import Greedy as greedy\u001b[39;00m\n\u001b[1;32m     14\u001b[0m \u001b[38;5;66;03m#from base_sa import SimAnnealing as sa\u001b[39;00m\n\u001b[1;32m     15\u001b[0m \n\u001b[1;32m     16\u001b[0m \u001b[38;5;66;03m#from optimizer.edm_ilp import ilp_minimize_edges\u001b[39;00m\n",
      "\u001b[0;31mNameError\u001b[0m: name '__file__' is not defined"
     ]
    }
   ],
   "source": [
    "import sys\n",
    "import os\n",
    "from pathlib import Path\n",
    "#dir_name = os.path.dirname(__file__)\n",
    "#os.chdir(dir_name)\n",
    "sys.path.append('..')\n",
    "\n",
    "import time as time\n",
    "import matplotlib.pyplot as plt\n",
    "import networkx as nx\n",
    "#sys.path.append(os.path.dirname(__file__))\n",
    "#dir_name = os.path.dirname(__file__)\n",
    "#from base_lc import Greedy as greedy\n",
    "#from base_sa import SimAnnealing as sa\n",
    "\n",
    "#from optimizer.edm_ilp import ilp_minimize_edges\n",
    "from optimizer.ILP_VMinor import has_VM\n",
    "from optimizer.edm_sa import EDM_SimAnnealing as sa\n",
    "from optimizer.ILP_minimize_edges import minimize_edges as ilp_minimize_edges"
   ]
  },
  {
   "cell_type": "code",
   "execution_count": 13,
   "id": "bbda2c82-f4f7-45f9-9a44-30d85cb8887c",
   "metadata": {},
   "outputs": [
    {
     "name": "stdout",
     "output_type": "stream",
     "text": [
      "[0]\n"
     ]
    }
   ],
   "source": [
    "G1=SimpleGraph({0:[1,2,3,4,5,6,7],1:[0,2,3,5,4,7],2:[0,1,3,4],3:[0,1,2,4,5],4:[0,2,3,7,1],5:[0,1,3,6],6:[0,5],7:[0,4,1]})\n",
    "edges=[(6,7),(6,4),(6,2),(7,5),(4,5)]\n",
    "\n",
    "G2=SimpleGraph({0:[1,2,3,4,5,6,7],1:[0,2,3,5,4,7],2:[0,1,3,4],3:[0,1,2,4,5],4:[0,2,3,7,1],5:[0,1,3,6],6:[0,5],7:[0,4,1]})\n",
    "edges=[(6,7),(6,4),(6,2),(7,5),(4,5)]\n",
    "G1 = SimpleGraph(nx.erdos_renyi_graph(6,1))\n",
    "G2 = SimpleGraph(nx.star_graph(4))\n",
    "#print(G2)\n",
    "a = G1.has_VM(G2, method = \"DH\")\n",
    "print(a)"
   ]
  },
  {
   "cell_type": "code",
   "execution_count": 11,
   "id": "39e67676",
   "metadata": {},
   "outputs": [
    {
     "name": "stdout",
     "output_type": "stream",
     "text": [
      "[]\n"
     ]
    }
   ],
   "source": [
    "a = G1.has_VM(G2, method = \"DH\")\n",
    "print(a)"
   ]
  },
  {
   "cell_type": "code",
   "execution_count": null,
   "id": "20c3db3e",
   "metadata": {},
   "outputs": [],
   "source": []
  }
 ],
 "metadata": {
  "kernelspec": {
   "display_name": "SageMath 10.4",
   "language": "sage",
   "name": "SageMath-10.4"
  },
  "language_info": {
   "codemirror_mode": {
    "name": "ipython",
    "version": 3
   },
   "file_extension": ".py",
   "mimetype": "text/x-python",
   "name": "sage",
   "nbconvert_exporter": "python",
   "pygments_lexer": "ipython3",
   "version": "3.12.4"
  }
 },
 "nbformat": 4,
 "nbformat_minor": 5
}
