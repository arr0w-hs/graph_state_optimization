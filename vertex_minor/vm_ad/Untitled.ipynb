{
 "cells": [
  {
   "cell_type": "code",
   "execution_count": 1,
   "id": "5f13d371-97db-447e-b7af-c80467e56510",
   "metadata": {},
   "outputs": [],
   "source": [
    "load(\"GraphClasses.sage\")"
   ]
  },
  {
   "cell_type": "code",
   "execution_count": null,
   "id": "bbda2c82-f4f7-45f9-9a44-30d85cb8887c",
   "metadata": {},
   "outputs": [],
   "source": [
    "G1=SimpleGraph({0:[1,2,3,4,5,6,7],1:[0,2,3,5,4,7],2:[0,1,3,4],3:[0,1,2,4,5],4:[0,2,3,7,1],5:[0,1,3,6],6:[0,5],7:[0,4,1]})\n",
    "edges=[(6,7),(6,4),(6,2),(7,5),(4,5)]\n",
    "\n",
    "G2=SimpleGraph({0:[1,2,3,4,5,6,7],1:[0,2,3,5,4,7],2:[0,1,3,4],3:[0,1,2,4,5],4:[0,2,3,7,1],5:[0,1,3,6],6:[0,5],7:[0,4,1]})\n",
    "edges=[(6,7),(6,4),(6,2),(7,5),(4,5)]"
   ]
  }
 ],
 "metadata": {
  "kernelspec": {
   "display_name": "SageMath 10.4",
   "language": "sage",
   "name": "sagemath-10.4"
  },
  "language_info": {
   "codemirror_mode": {
    "name": "ipython",
    "version": 3
   },
   "file_extension": ".py",
   "mimetype": "text/x-python",
   "name": "python",
   "nbconvert_exporter": "python",
   "pygments_lexer": "ipython3",
   "version": "3.12.4"
  }
 },
 "nbformat": 4,
 "nbformat_minor": 5
}
